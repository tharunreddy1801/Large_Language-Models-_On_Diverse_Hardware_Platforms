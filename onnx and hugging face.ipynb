{
 "cells": [
  {
   "cell_type": "code",
   "execution_count": 6,
   "id": "e01e14c7-41be-43f3-8358-be26b387f5a3",
   "metadata": {
    "tags": []
   },
   "outputs": [
    {
     "data": {
      "application/vnd.jupyter.widget-view+json": {
       "model_id": "527eaaeb6a6e462990b24cc64dd7ffab",
       "version_major": 2,
       "version_minor": 0
      },
      "text/plain": [
       "Downloading vocab.txt:   0%|          | 0.00/226k [00:00<?, ?B/s]"
      ]
     },
     "metadata": {},
     "output_type": "display_data"
    },
    {
     "data": {
      "application/vnd.jupyter.widget-view+json": {
       "model_id": "9c27329baad241439cb38264508c660f",
       "version_major": 2,
       "version_minor": 0
      },
      "text/plain": [
       "Downloading config.json:   0%|          | 0.00/409 [00:00<?, ?B/s]"
      ]
     },
     "metadata": {},
     "output_type": "display_data"
    },
    {
     "name": "stderr",
     "output_type": "stream",
     "text": [
      "Asking to truncate to max_length but no maximum length is provided and the model has no predefined maximum length. Default to no truncation.\n"
     ]
    },
    {
     "name": "stdout",
     "output_type": "stream",
     "text": [
      "Length of the string: 13\n",
      "Predicted class: 1\n",
      "Latency: 2.05 ms\n",
      "Throughput: 354.57057717099565 inferences/second\n"
     ]
    }
   ],
   "source": [
    "import onnxruntime\n",
    "import numpy as np\n",
    "from transformers import BertTokenizer\n",
    " # Load the ONNX model\n",
    "onnx_model_path = \"./quantized_tinybert (1).onnx\"\n",
    "ort_session = onnxruntime.InferenceSession(onnx_model_path)\n",
    " # Tokenize inp\n",
    "tokenizer = BertTokenizer.from_pretrained('huawei-noah/TinyBERT_General_4L_312D')\n",
    "input_text = \"20 * 5 + 3 = \"\n",
    "length=len(input_text)\n",
    "print(f\"Length of the string: {length}\")\n",
    "input_ids = tokenizer.encode(input_text, return_tensors=\"np\", padding=True, \n",
    "truncation=True)\n",
    "input_ids = np.array(input_ids, dtype=np.int64)\n",
    " # Run the model\n",
    "ort_inputs = {\"input_ids\": input_ids}\n",
    "ort_outs = ort_session.run(None, ort_inputs)\n",
    "  # Get the prediction\n",
    "predicted_class = np.argmax(ort_outs[0])\n",
    "print(\"Predicted class:\", predicted_class)\n",
    "import time\n",
    "start_time = time.time()\n",
    "output = ort_session.run(None, {ort_session.get_inputs()[0].name:  input_ids})\n",
    "end_time = time.time()\n",
    "# Calculate latency\n",
    "latency_ms = (end_time-start_time) *1000\n",
    "print(f\"Latency: {latency_ms:.2f} ms\")\n",
    "\n",
    "# Generate input data (you need to replace this with your actual input data)\n",
    "input_shape = (1, 8)  # Assuming input shape is (batch_size, sequence_length)\n",
    "input_data = np.random.rand(*input_shape).astype(np.int64)\n",
    "\n",
    "# Perform inference and measure throughput\n",
    "num_iterations = 100  # Number of inference iterations\n",
    "start_time = time.time()\n",
    "for _ in range(num_iterations):\n",
    "    output = ort_session.run([], {\"input_ids\": input_data}) # Replace \"input\" with the actual inputname in yourmodel\n",
    "end_time = time.time()\n",
    "\n",
    "# Calculate throughput\n",
    "total_time = end_time - start_time\n",
    "average_time_per_iteration = total_time / num_iterations\n",
    "throughput = 1 / average_time_per_iteration  # Throughput in inferences per second\n",
    "\n",
    "print(f\"Throughput: {throughput} inferences/second\")"
   ]
  },
  {
   "cell_type": "code",
   "execution_count": 21,
   "id": "dfc8983c-0534-4dff-b163-a0cd9b9f6762",
   "metadata": {
    "tags": []
   },
   "outputs": [
    {
     "data": {
      "image/png": "[encoded data removed]",
      "text/plain": [
       "<Figure size 640x480 with 1 Axes>"
      ]
     },
     "metadata": {},
     "output_type": "display_data"
    }
   ],
   "source": [
    "import matplotlib.pyplot as plt\n",
    "\n",
    "input_sizes = [1,2,4,6,8,12]  # Example input sizes (batch size)\n",
    "latencies = []\n",
    "\n",
    "for batch_size in input_sizes:\n",
    "    start_time = time.time()\n",
    "    output =  ort_session.run(None, { ort_session.get_inputs()[0].name: input_ids})\n",
    "    end_time = time.time()\n",
    "    latency_ms = (end_time - start_time) * 1000\n",
    "    latencies.append(latency_ms)\n",
    "\n",
    "# Plot latency vs. input size\n",
    "plt.plot(input_sizes, latencies, marker='o')\n",
    "plt.xlabel(\"length\")\n",
    "plt.ylabel(\"Latency (ms)\")\n",
    "plt.title(\"ONNX Model Latency vs. Input Size\")\n",
    "plt.grid(True)\n",
    "plt.show()"
   ]
  },
  {
   "cell_type": "code",
   "execution_count": 1,
   "id": "96903b94-1ec2-41be-9d9c-acf69ac93e79",
   "metadata": {
    "tags": []
   },
   "outputs": [
    {
     "data": {
      "application/vnd.jupyter.widget-view+json": {
       "model_id": "61723f28e13541e0af99005a63b22bcc",
       "version_major": 2,
       "version_minor": 0
      },
      "text/plain": [
       "Downloading tokenizer_config.json:   0%|          | 0.00/39.0 [00:00<?, ?B/s]"
      ]
     },
     "metadata": {},
     "output_type": "display_data"
    },
    {
     "data": {
      "application/vnd.jupyter.widget-view+json": {
       "model_id": "2429160049f34d97b2473837169f344f",
       "version_major": 2,
       "version_minor": 0
      },
      "text/plain": [
       "Downloading config.json:   0%|          | 0.00/953 [00:00<?, ?B/s]"
      ]
     },
     "metadata": {},
     "output_type": "display_data"
    },
    {
     "data": {
      "application/vnd.jupyter.widget-view+json": {
       "model_id": "3fc8936f55a34e8b8c6595cf064db42b",
       "version_major": 2,
       "version_minor": 0
      },
      "text/plain": [
       "Downloading vocab.txt:   0%|          | 0.00/851k [00:00<?, ?B/s]"
      ]
     },
     "metadata": {},
     "output_type": "display_data"
    },
    {
     "data": {
      "application/vnd.jupyter.widget-view+json": {
       "model_id": "2e1373e0cd3f452d93fa3b8c2c622542",
       "version_major": 2,
       "version_minor": 0
      },
      "text/plain": [
       "Downloading special_tokens_map.json:   0%|          | 0.00/112 [00:00<?, ?B/s]"
      ]
     },
     "metadata": {},
     "output_type": "display_data"
    },
    {
     "data": {
      "application/vnd.jupyter.widget-view+json": {
       "model_id": "ff2dcea7e8814b469b531ff1c48570fb",
       "version_major": 2,
       "version_minor": 0
      },
      "text/plain": [
       "Downloading tf_model.h5:   0%|          | 0.00/639M [00:00<?, ?B/s]"
      ]
     },
     "metadata": {},
     "output_type": "display_data"
    },
    {
     "name": "stderr",
     "output_type": "stream",
     "text": [
      "2024-06-05 12:10:23.546015: W tensorflow/core/framework/cpu_allocator_impl.cc:82] Allocation of 325260288 exceeds 10% of free system memory.\n",
      "All model checkpoint layers were used when initializing TFBertForSequenceClassification.\n",
      "\n",
      "All the layers of TFBertForSequenceClassification were initialized from the model checkpoint at nlptown/bert-base-multilingual-uncased-sentiment.\n",
      "If your task is similar to the task the model of the checkpoint was trained on, you can already use TFBertForSequenceClassification for predictions without further training.\n"
     ]
    },
    {
     "name": "stdout",
     "output_type": "stream",
     "text": [
      "Length of the string: 25\n",
      "Latency: 264.56 ms\n",
      "Throughput: 4.96 examples/second\n"
     ]
    }
   ],
   "source": [
    "from transformers import TFAutoModelForSequenceClassification, AutoTokenizer\n",
    "import tensorflow as tf\n",
    "import time\n",
    "\n",
    "# Load the model and tokenizer\n",
    "model_name = \"nlptown/bert-base-multilingual-uncased-sentiment\"\n",
    "tokenizer = AutoTokenizer.from_pretrained(model_name)\n",
    "model = TFAutoModelForSequenceClassification.from_pretrained(model_name)\n",
    "\n",
    "# Example text\n",
    "text = \"What is capital of India?\"\n",
    "length=len(text)\n",
    "print(f\"Length of the string: {length}\")\n",
    "# Tokenize input text\n",
    "inputs = tokenizer(text, return_tensors=\"tf\", padding=True, truncation=True)\n",
    "\n",
    "# Measure inference time for a single example\n",
    "start_time = time.time()\n",
    "_ = model(**inputs)\n",
    "end_time = time.time()\n",
    "\n",
    "latency_ms = (end_time - start_time) * 1000\n",
    "print(f\"Latency: {latency_ms:.2f} ms\")\n",
    "\n",
    "# Measure inference time for multiple examples\n",
    "num_examples = 100\n",
    "start_time = time.time()\n",
    "for _ in range(num_examples):\n",
    "    _ = model(**inputs)\n",
    "end_time = time.time()\n",
    "\n",
    "total_inference_time = end_time - start_time\n",
    "throughput = num_examples / total_inference_time\n",
    "print(f\"Throughput: {throughput:.2f} examples/second\")"
   ]
  },
  {
   "cell_type": "code",
   "execution_count": 13,
   "id": "59955bf9-76f7-4b82-93ee-62bb49a722b5",
   "metadata": {
    "tags": []
   },
   "outputs": [
    {
     "name": "stderr",
     "output_type": "stream",
     "text": [
      "Some weights of the model checkpoint at huawei-noah/TinyBERT_General_4L_312D were not used when initializing BertForSequenceClassification: ['fit_denses.2.bias', 'fit_denses.3.bias', 'cls.seq_relationship.bias', 'cls.predictions.transform.LayerNorm.weight', 'fit_denses.1.bias', 'fit_denses.0.weight', 'fit_denses.3.weight', 'cls.predictions.transform.LayerNorm.bias', 'fit_denses.2.weight', 'fit_denses.4.bias', 'fit_denses.4.weight', 'cls.predictions.transform.dense.weight', 'fit_denses.1.weight', 'cls.seq_relationship.weight', 'fit_denses.0.bias', 'cls.predictions.transform.dense.bias', 'cls.predictions.decoder.weight', 'cls.predictions.bias']\n",
      "- This IS expected if you are initializing BertForSequenceClassification from the checkpoint of a model trained on another task or with another architecture (e.g. initializing a BertForSequenceClassification model from a BertForPreTraining model).\n",
      "- This IS NOT expected if you are initializing BertForSequenceClassification from the checkpoint of a model that you expect to be exactly identical (initializing a BertForSequenceClassification model from a BertForSequenceClassification model).\n",
      "Some weights of BertForSequenceClassification were not initialized from the model checkpoint at huawei-noah/TinyBERT_General_4L_312D and are newly initialized: ['classifier.bias', 'classifier.weight']\n",
      "You should probably TRAIN this model on a down-stream task to be able to use it for predictions and inference.\n",
      "Asking to truncate to max_length but no maximum length is provided and the model has no predefined maximum length. Default to no truncation.\n"
     ]
    },
    {
     "name": "stdout",
     "output_type": "stream",
     "text": [
      "Length of the string: 29\n",
      "Latency: 14.159917831420898 ms\n",
      "Throughput: 132.36951076378995 inferences/second\n"
     ]
    }
   ],
   "source": [
    "import torch\n",
    "from transformers import BertTokenizer, BertForSequenceClassification\n",
    "import time\n",
    "# Load the TinyBERT model and tokenizer\n",
    "model_name = \"huawei-noah/TinyBERT_General_4L_312D\"\n",
    "tokenizer = BertTokenizer.from_pretrained(model_name)\n",
    "model = BertForSequenceClassification.from_pretrained(model_name)\n",
    "\n",
    "# Sample input text (replace with your own text)\n",
    "input_text = \"what is the capital of india?\"\n",
    "length=len(input_text)\n",
    "print(f\"Length of the string: {length}\")\n",
    "\n",
    "# Tokenize input text\n",
    "input_ids = tokenizer(input_text,padding=True, truncation=True, return_tensors=\"pt\")[\"input_ids\"]\n",
    "\n",
    "# Measure latency\n",
    "with torch.no_grad():\n",
    "    start_time = time.time()\n",
    "    outputs = model(input_ids)\n",
    "    end_time = time.time()\n",
    "\n",
    "latency = (end_time - start_time) * 1000  # Convert to milliseconds\n",
    "\n",
    "print(\"Latency:\", latency, \"ms\")\n",
    "for _ in range(3):\n",
    "     model(input_ids=input_ids)\n",
    "# Measure throughput\n",
    "start_time = time.time()\n",
    "num_exam=100\n",
    "for _ in range(num_exam):  # Adjust the number of iterations according to your requirements\n",
    "    model(input_ids=input_ids)\n",
    "end_time = time.time()\n",
    "total_time = end_time - start_time\n",
    "throughput = num_exam / total_time\n",
    "print(\"Throughput:\", throughput, \"inferences/second\")"
   ]
  },
  {
   "cell_type": "code",
   "execution_count": 22,
   "id": "3d712b83-4919-434c-b31f-a77769579410",
   "metadata": {
    "tags": []
   },
   "outputs": [
    {
     "data": {
      "application/vnd.jupyter.widget-view+json": {
       "model_id": "bc7cd96418d140fb9d341b321ffeaf5c",
       "version_major": 2,
       "version_minor": 0
      },
      "text/plain": [
       "Downloading vocab.txt:   0%|          | 0.00/851k [00:00<?, ?B/s]"
      ]
     },
     "metadata": {},
     "output_type": "display_data"
    },
    {
     "data": {
      "application/vnd.jupyter.widget-view+json": {
       "model_id": "a2c16514cb494635abb86c7784cbedab",
       "version_major": 2,
       "version_minor": 0
      },
      "text/plain": [
       "Downloading special_tokens_map.json:   0%|          | 0.00/112 [00:00<?, ?B/s]"
      ]
     },
     "metadata": {},
     "output_type": "display_data"
    },
    {
     "data": {
      "application/vnd.jupyter.widget-view+json": {
       "model_id": "f34e1a12f41b44daa3ddbb35f2a46f65",
       "version_major": 2,
       "version_minor": 0
      },
      "text/plain": [
       "Downloading tokenizer_config.json:   0%|          | 0.00/39.0 [00:00<?, ?B/s]"
      ]
     },
     "metadata": {},
     "output_type": "display_data"
    },
    {
     "data": {
      "application/vnd.jupyter.widget-view+json": {
       "model_id": "4d161de0046a4dd78b885863e172c4fd",
       "version_major": 2,
       "version_minor": 0
      },
      "text/plain": [
       "Downloading config.json:   0%|          | 0.00/953 [00:00<?, ?B/s]"
      ]
     },
     "metadata": {},
     "output_type": "display_data"
    },
    {
     "name": "stdout",
     "output_type": "stream",
     "text": [
      "Length of the string: 22\n",
      "Predicted class: 0\n",
      "Latency: 17.79 ms\n",
      "Throughput: 25.34947588287626 inferences/second\n"
     ]
    }
   ],
   "source": [
    "import onnxruntime\n",
    "import numpy as np\n",
    "from transformers import BertTokenizer\n",
    " # Load the ONNX model\n",
    "onnx_model_path = \"./yourmodel.onnx\"\n",
    "ort_session = onnxruntime.InferenceSession(onnx_model_path)\n",
    " # Tokenize inp\n",
    "tokenizer = BertTokenizer.from_pretrained('nlptown/bert-base-multilingual-uncased-sentiment')\n",
    "input_sentence = \"What capital of India?\"\n",
    "length=len(input_sentence)\n",
    "print(f\"Length of the string: {length}\")\n",
    "input_ids_1= tokenizer.encode(input_sentence, return_tensors=\"np\", padding=True, \n",
    "truncation=True)\n",
    "input_ids_1 = np.array(input_ids_1, dtype=np.int64)\n",
    " # Run the model\n",
    "ort_inputs = {\"input.1\": input_ids_1}\n",
    "ort_outs = ort_session.run(None, ort_inputs)\n",
    "  # Get the prediction\n",
    "predicted_class = np.argmax(ort_outs[0])\n",
    "print(\"Predicted class:\", predicted_class)\n",
    "import time\n",
    "start_time = time.time()\n",
    "output = ort_session.run(None, {ort_session.get_inputs()[0].name:  input_ids_1})\n",
    "end_time = time.time()\n",
    "# Calculate latency\n",
    "latency_ms = (end_time-start_time) *1000\n",
    "print(f\"Latency: {latency_ms:.2f} ms\")\n",
    "\n",
    "# Generate input data (you need to replace this with your actual input data)\n",
    "input_shape = (1, 7)  # Assuming input shape is (batch_size, sequence_length)\n",
    "input_data = np.random.rand(*input_shape).astype(np.int64)\n",
    "\n",
    "# Perform inference and measure throughput\n",
    "num_iterations = 100  # Number of inference iterations\n",
    "start_time = time.time()\n",
    "for _ in range(num_iterations):\n",
    "    output = ort_session.run([], {\"input.1\": input_data})  # Replace \"input\" with the actual input name in yourmodel\n",
    "end_time = time.time()\n",
    "\n",
    "# Calculate throughput\n",
    "total_time = end_time - start_time\n",
    "average_time_per_iteration = total_time / num_iterations\n",
    "throughput = 1 / average_time_per_iteration  # Throughput in inferences per second\n",
    "\n",
    "print(f\"Throughput: {throughput} inferences/second\")"
   ]
  },
  {
   "cell_type": "code",
   "execution_count": 5,
   "id": "0830de1b-b332-4f0a-a08c-cdcf49841f56",
   "metadata": {
    "tags": []
   },
   "outputs": [
    {
     "data": {
      "application/vnd.jupyter.widget-view+json": {
       "model_id": "cd8f8afa30d3478fa904fd90fb34ca9d",
       "version_major": 2,
       "version_minor": 0
      },
      "text/plain": [
       "Downloading vocab.txt:   0%|          | 0.00/851k [00:00<?, ?B/s]"
      ]
     },
     "metadata": {},
     "output_type": "display_data"
    },
    {
     "data": {
      "application/vnd.jupyter.widget-view+json": {
       "model_id": "61b790d856444441a9c311b0595e5dd6",
       "version_major": 2,
       "version_minor": 0
      },
      "text/plain": [
       "Downloading special_tokens_map.json:   0%|          | 0.00/112 [00:00<?, ?B/s]"
      ]
     },
     "metadata": {},
     "output_type": "display_data"
    },
    {
     "data": {
      "application/vnd.jupyter.widget-view+json": {
       "model_id": "7b30b9d5a7c646fbb3c55e5f46ebbd42",
       "version_major": 2,
       "version_minor": 0
      },
      "text/plain": [
       "Downloading tokenizer_config.json:   0%|          | 0.00/39.0 [00:00<?, ?B/s]"
      ]
     },
     "metadata": {},
     "output_type": "display_data"
    },
    {
     "data": {
      "application/vnd.jupyter.widget-view+json": {
       "model_id": "189948a3e7fa4e28b71e398595c4f8c1",
       "version_major": 2,
       "version_minor": 0
      },
      "text/plain": [
       "Downloading config.json:   0%|          | 0.00/953 [00:00<?, ?B/s]"
      ]
     },
     "metadata": {},
     "output_type": "display_data"
    },
    {
     "name": "stdout",
     "output_type": "stream",
     "text": [
      "Length of the string: 22\n",
      "Predicted class: 0\n",
      "Latency: 26.56 ms\n",
      "Throughput: 26.975418710926988 inferences/second\n"
     ]
    }
   ],
   "source": [
    "import onnxruntime\n",
    "import numpy as np\n",
    "from transformers import BertTokenizer\n",
    " # Load the ONNX model\n",
    "onnx_model_path = \"./yourmodel.onnx\"\n",
    "ort_session = onnxruntime.InferenceSession(onnx_model_path)\n",
    " # Tokenize inp\n",
    "tokenizer = BertTokenizer.from_pretrained('nlptown/bert-base-multilingual-uncased-sentiment')\n",
    "input_sentence = \"What capital of India?\"\n",
    "length=len(input_sentence)\n",
    "print(f\"Length of the string: {length}\")\n",
    "input_ids_1= tokenizer.encode(input_sentence, return_tensors=\"np\", padding=True, \n",
    "truncation=True)\n",
    "input_ids_1 = np.array(input_ids_1, dtype=np.int64)\n",
    " # Run the model\n",
    "ort_inputs = {\"input.1\": input_ids_1}\n",
    "ort_outs = ort_session.run(None, ort_inputs)\n",
    "  # Get the prediction\n",
    "predicted_class = np.argmax(ort_outs[0])\n",
    "print(\"Predicted class:\", predicted_class)\n",
    "import time\n",
    "start_time = time.time()\n",
    "output = ort_session.run(None, {ort_session.get_inputs()[0].name:  input_ids_1})\n",
    "end_time = time.time()\n",
    "# Calculate latency\n",
    "latency_ms = (end_time-start_time) *1000\n",
    "print(f\"Latency: {latency_ms:.2f} ms\")\n",
    "\n",
    "# Generate input data (you need to replace this with your actual input data)\n",
    "input_shape = (1, 7)  # Assuming input shape is (batch_size, sequence_length)\n",
    "input_data = np.random.rand(*input_shape).astype(np.int64)\n",
    "\n",
    "# Perform inference and measure throughput\n",
    "num_iterations = 100  # Number of inference iterations\n",
    "start_time = time.time()\n",
    "for _ in range(num_iterations):\n",
    "    output = ort_session.run([], {\"input.1\": input_data})  # Replace \"input\" with the actual input name in your model\n",
    "end_time = time.time()\n",
    "\n",
    "# Calculate throughput\n",
    "total_time = end_time - start_time\n",
    "average_time_per_iteration = total_time / num_iterations\n",
    "throughput = 1 / average_time_per_iteration  # Throughput in inferences per second\n",
    "\n",
    "print(f\"Throughput: {throughput} inferences/second\")"
   ]
  },
  {
   "cell_type": "code",
   "execution_count": 6,
   "id": "35dd51b5-dd52-4d8f-b309-f4a793ad2936",
   "metadata": {
    "tags": []
   },
   "outputs": [
    {
     "data": {
      "image/png": "[encoded data removed]",
      "text/plain": [
       "<Figure size 640x480 with 1 Axes>"
      ]
     },
     "metadata": {},
     "output_type": "display_data"
    }
   ],
   "source": [
    "import matplotlib.pyplot as plt\n",
    "\n",
    "input_sizes = [1,2,4,6,7,8,12]  # Example input sizes (batch size)\n",
    "latencies = []\n",
    "\n",
    "for batch_size in input_sizes:\n",
    "    start_time = time.time()\n",
    "    output =  ort_session.run(None, { ort_session.get_inputs()[0].name: input_ids_1})\n",
    "    end_time = time.time()\n",
    "    latency_ms = (end_time - start_time) * 1000\n",
    "    latencies.append(latency_ms)\n",
    "\n",
    "# Plot latency vs. input size\n",
    "plt.plot(input_sizes, latencies, marker='o')\n",
    "plt.xlabel(\"length_1\")\n",
    "plt.ylabel(\"Latency (ms)\")\n",
    "plt.title(\"ONNX Model Latency vs. Input Size\")\n",
    "plt.grid(True)\n",
    "plt.show()"
   ]
  },
  {
   "cell_type": "code",
   "execution_count": null,
   "id": "943f723f-41b1-491d-8462-362a3cdad0a7",
   "metadata": {},
   "outputs": [],
   "source": []
  }
 ],
 "metadata": {
  "kernelspec": {
   "display_name": "Python 3 (ipykernel)",
   "language": "python",
   "name": "python3"
  },
  "language_info": {
   "codemirror_mode": {
    "name": "ipython",
    "version": 3
   },
   "file_extension": ".py",
   "mimetype": "text/x-python",
   "name": "python",
   "nbconvert_exporter": "python",
   "pygments_lexer": "ipython3",
   "version": "3.9.16"
  }
 },
 "nbformat": 4,
 "nbformat_minor": 5
}
